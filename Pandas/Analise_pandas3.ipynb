{
 "cells": [
  {
   "cell_type": "code",
   "execution_count": 2,
   "metadata": {},
   "outputs": [],
   "source": [
    "import pandas as pd\n",
    "\n",
    "# dando entrada nas tabelas que serão usadas\n",
    "produtos_df = pd.read_csv(r'E:\\Programas\\Projetos-Python\\Pandas\\Contoso - Cadastro Produtos.csv', sep=';')\n",
    "clientes_df = pd.read_csv(r'E:\\Programas\\Projetos-Python\\Pandas\\Contoso - Clientes.csv', sep=';')\n",
    "lojas_df = pd.read_csv(r'E:\\Programas\\Projetos-Python\\Pandas\\Contoso - Lojas.csv', sep=';')\n",
    "vendas2017_df = pd.read_csv(r'E:\\Programas\\Projetos-Python\\Pandas\\Contoso - Vendas  - 2017.csv', sep=';')\n",
    "\n",
    "# filtrando as tabelas conforme as colunas que queremos\n",
    "clientes_df = clientes_df[['ID Cliente', 'E-mail']]\n",
    "produtos_df = produtos_df[['ID Produto', 'Nome da Marca']]\n",
    "lojas_df = lojas_df[['ID Loja', 'Nome da Loja']]\n",
    "\n",
    "# mesclando e renomeando colunas\n",
    "vendas2017_df = vendas2017_df.merge(produtos_df, on='ID Produto')\n",
    "vendas2017_df = vendas2017_df.merge(clientes_df, on='ID Cliente')\n",
    "vendas2017_df = vendas2017_df.merge(lojas_df, on='ID Loja').rename(columns={'E-mail' : 'E-mail do Cliente'})"
   ]
  },
  {
   "cell_type": "markdown",
   "metadata": {},
   "source": []
  },
  {
   "cell_type": "code",
   "execution_count": null,
   "metadata": {},
   "outputs": [],
   "source": []
  }
 ],
 "metadata": {
  "kernelspec": {
   "display_name": "Python 3",
   "language": "python",
   "name": "python3"
  },
  "language_info": {
   "codemirror_mode": {
    "name": "ipython",
    "version": 3
   },
   "file_extension": ".py",
   "mimetype": "text/x-python",
   "name": "python",
   "nbconvert_exporter": "python",
   "pygments_lexer": "ipython3",
   "version": "3.11.1"
  },
  "orig_nbformat": 4,
  "vscode": {
   "interpreter": {
    "hash": "e6cbf922e4365afb2d5548b061d9e5a3e3e5cb16ee62e7148c4102e84b362b43"
   }
  }
 },
 "nbformat": 4,
 "nbformat_minor": 2
}
