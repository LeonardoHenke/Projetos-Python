{
 "cells": [
  {
   "cell_type": "markdown",
   "metadata": {},
   "source": [
    "# Exercício - Mini Projeto de Análise de Dados\n",
    "\n",
    "Vamos fazer um exercício completo de pandas para um miniprojeto de análise de dados.\n",
    "\n",
    "Esse exercício vai obrigar a gente a usar boa parte dos conhecimento de pandas e até de outros módulos que já aprendemos ao longo do curso.\n",
    "\n",
    "### O que temos?\n",
    "\n",
    "Temos os dados de 2019 de uma empresa de prestação de serviços. \n",
    "\n",
    "- CadastroFuncionarios\n",
    "- CadastroClientes\n",
    "- BaseServiçosPrestados\n",
    "\n",
    "Obs1: Para ler arquivos csv, temos o read_csv<br>\n",
    "Obs2: Para ler arquivos xlsx (arquivos em excel normais, que não são padrão csv), temos o read_excel\n",
    "\n",
    "### O que queremos saber/fazer?\n",
    "\n",
    "1. Valor Total da Folha Salarial -> Qual foi o gasto total com salários de funcionários pela empresa? <br>\n",
    "    Sugestão: calcule o salário total de cada funcionário, salário + benefícios + impostos, depois some todos os salários\n",
    "    \n",
    "    \n",
    "2. Qual foi o faturamento da empresa?<br>\n",
    "    Sugestão: calcule o faturamento total de cada serviço e depois some o faturamento de todos\n",
    "    \n",
    "    \n",
    "3. Qual o % de funcionários que já fechou algum contrato?<br>\n",
    "    Sugestão: na base de serviços temos o funcionário que fechou cada serviço. Mas nem todos os funcionários que a empresa tem já fecharam algum serviço.<br>\n",
    "    . Na base de funcionários temos uma lista com todos os funcionários<br>\n",
    "    . Queremos calcular Qtde_Funcionarios_Fecharam_Serviço / Qtde_Funcionários_Totais<br>\n",
    "    . Para calcular a qtde de funcionários que fecharam algum serviço, use a base de serviços e conte quantos funcionários tem ali. Mas lembre-se, cada funcionário só pode ser contado uma única vez.<br><br>\n",
    "    Dica: se você aplicar o método .unique() em uma variável que é apenas 1 coluna de um dataframe, ele vai excluir todos os valores duplicados daquela coluna.<br>\n",
    "    Ex: unicos_colunaA = dataframe['colunaA'].unique() te dá como resposta uma lista com todos os itens da colunaA aparecendo uma única vez. Todos os valores repetidos da colunaA são excluidos da variável unicos_colunaA \n",
    "    \n",
    "    \n",
    "4. Calcule o total de contratos que cada área da empresa já fechou\n",
    "\n",
    "\n",
    "5. Calcule o total de funcionários por área\n",
    "\n",
    "\n",
    "6. Qual o ticket médio mensal (faturamento médio mensal) dos contratos?<br>\n",
    "    Dica: .mean() calcula a média -> exemplo: media_colunaA = dataframe['colunaA'].mean()\n",
    "\n",
    "Obs: Lembrando as opções mais usuais de encoding:<br>\n",
    "encoding='latin1', encoding='ISO-8859-1', encoding='utf-8' ou então encoding='cp1252'\n",
    "\n",
    "Observação Importante: Se o seu código der um erro na hora de importar os arquivos:<br>\n",
    "- CadastroClientes.csv\n",
    "- CadastroFuncionarios.csv\n",
    "\n",
    "Use separador \";\" (ponto e vírgula) para resolver"
   ]
  },
  {
   "attachments": {},
   "cell_type": "markdown",
   "metadata": {},
   "source": [
    "### Importando Pandas e os Dataframes"
   ]
  },
  {
   "cell_type": "code",
   "execution_count": 2,
   "metadata": {},
   "outputs": [],
   "source": [
    "import pandas as pd\n",
    "\n",
    "# dando entrada nos dataframes\n",
    "cad_clientes_df = pd.read_csv(r'E:\\Downloads\\OneDrive_1_15-02-2023\\CadastroClientes.csv', sep=';')\n",
    "cad_funcionarios_df = pd.read_csv(r'E:\\Downloads\\OneDrive_1_15-02-2023\\CadastroFuncionarios.csv', sep=';', decimal=',')\n",
    "servicos_df = pd.read_excel(r'E:\\Downloads\\OneDrive_1_15-02-2023\\BaseServiçosPrestados.xlsx')\n"
   ]
  },
  {
   "attachments": {},
   "cell_type": "markdown",
   "metadata": {},
   "source": [
    "### EXERCÍCIO 1 - Folha Salarial"
   ]
  },
  {
   "cell_type": "code",
   "execution_count": 11,
   "metadata": {},
   "outputs": [
    {
     "name": "stdout",
     "output_type": "stream",
     "text": [
      "o Valor total da Folha Salarial foi de: R$2,717,493.22\n"
     ]
    }
   ],
   "source": [
    "# adicionando uma nova coluna para calcular o gastos totais de um funcionário\n",
    "cad_funcionarios_df['Gastos Totais'] = cad_funcionarios_df['Salario Base'] + cad_funcionarios_df['Impostos'] + cad_funcionarios_df['Beneficios'] + cad_funcionarios_df['VT'] + cad_funcionarios_df['VR']\n",
    "##display(cad_funcionarios_df)\n",
    "\n",
    "# calculando o total de todos os funcionários\n",
    "folha_salarial_total = cad_funcionarios_df['Gastos Totais'].sum()\n",
    "print(f'o Valor total da Folha Salarial foi de: R${folha_salarial_total:,.2f}')\n"
   ]
  },
  {
   "attachments": {},
   "cell_type": "markdown",
   "metadata": {},
   "source": [
    "### EXERCÍCIO 2 - Faturamento da Empresa"
   ]
  },
  {
   "cell_type": "code",
   "execution_count": 14,
   "metadata": {},
   "outputs": [
    {
     "name": "stdout",
     "output_type": "stream",
     "text": [
      "O faturamento da empresa foi de: R$5,519,160.00\n"
     ]
    }
   ],
   "source": [
    "# mesclando os dataframes\n",
    "faturamento_df = servicos_df.merge(cad_clientes_df, on='ID Cliente')\n",
    "\n",
    "# adicionando uma nova coluna para calcular o valor total dos contratos\n",
    "faturamento_df['Valor Contrato total'] = faturamento_df['Valor Contrato Mensal'] * faturamento_df['Tempo Total de Contrato (Meses)']\n",
    "##display(faturamento_df)\n",
    "\n",
    "# Calculando o faturamento da empresa\n",
    "faturamento = faturamento_df['Valor Contrato total'].sum()\n",
    "print(f'O faturamento da empresa foi de: R${faturamento:,.2f}')"
   ]
  },
  {
   "attachments": {},
   "cell_type": "markdown",
   "metadata": {},
   "source": [
    "### EXERCÍCIO 3 - % Funcionários Fecharam Contrato"
   ]
  },
  {
   "cell_type": "code",
   "execution_count": 5,
   "metadata": {},
   "outputs": [
    {
     "name": "stdout",
     "output_type": "stream",
     "text": [
      "A % de funcionários que fecharam contrato é de: 86.84%\n"
     ]
    }
   ],
   "source": [
    "#funcionario que fechou / total de funcionários\n",
    "\n",
    "# agrupando as linhas duplicadas\n",
    "funcionarios_fechou_contrato = servicos_df['ID Funcionário'].unique()\n",
    "\n",
    "# contando a quantidade de linhas \n",
    "quantidade_funcionarios_fechou = len(funcionarios_fechou_contrato)\n",
    "#display(quantidade_funcionarios_fechou)\n",
    "\n",
    "# contando o total de funcionários\n",
    "quantidade_funcionarios_total = cad_funcionarios_df['ID Funcionário'].count()\n",
    "\n",
    "print(f'A % de funcionários que fecharam contrato é de: {quantidade_funcionarios_fechou / quantidade_funcionarios_total:.2%}')"
   ]
  },
  {
   "attachments": {},
   "cell_type": "markdown",
   "metadata": {},
   "source": [
    "### EXERCÍCIO 4 - Quantidade Contratos por Área"
   ]
  },
  {
   "cell_type": "code",
   "execution_count": 6,
   "metadata": {},
   "outputs": [
    {
     "name": "stdout",
     "output_type": "stream",
     "text": [
      "O total de contratos fechados por area é:\n",
      "Administrativo    63\n",
      "Operações         48\n",
      "Comercial         44\n",
      "Financeiro        42\n",
      "Logística         40\n",
      "Name: Area, dtype: int64\n"
     ]
    }
   ],
   "source": [
    "# selecionando as colunas que serão utilizadas e agrupando os dataframes\n",
    "novo_servicos_df = servicos_df[['ID Funcionário', 'Tempo Total de Contrato (Meses)']]\n",
    "novo_funcionarios_df = cad_funcionarios_df[['ID Funcionário', 'Area']]\n",
    "servicos_funcionarios_df = novo_servicos_df.merge(novo_funcionarios_df, on='ID Funcionário')\n",
    "\n",
    "# contando quantas vezes aparece cada area\n",
    "total_contratos_area = servicos_funcionarios_df['Area'].value_counts()\n",
    "\n",
    "print(f'O total de contratos fechados por area é:\\n{total_contratos_area}')\n",
    "\n"
   ]
  },
  {
   "attachments": {},
   "cell_type": "markdown",
   "metadata": {},
   "source": [
    "### EXERCICIO 5 - Funcionários por Área"
   ]
  },
  {
   "cell_type": "code",
   "execution_count": 7,
   "metadata": {},
   "outputs": [
    {
     "name": "stdout",
     "output_type": "stream",
     "text": [
      "O total de funcionários por area é:\n",
      "Administrativo    26\n",
      "Comercial         26\n",
      "Operações         23\n",
      "Logística         21\n",
      "Financeiro        18\n",
      "Name: Area, dtype: int64\n"
     ]
    }
   ],
   "source": [
    "# contando o total de funcionários por area\n",
    "total_funcionarios = cad_funcionarios_df['Area'].value_counts()\n",
    "\n",
    "print(f'O total de funcionários por area é:\\n{total_funcionarios}')"
   ]
  },
  {
   "attachments": {},
   "cell_type": "markdown",
   "metadata": {},
   "source": [
    "### EXERCÍCIO 6 - Ticket Médio Mensal"
   ]
  },
  {
   "cell_type": "code",
   "execution_count": 15,
   "metadata": {},
   "outputs": [
    {
     "name": "stdout",
     "output_type": "stream",
     "text": [
      "O faturamento médio foi de: 2,502.56\n"
     ]
    }
   ],
   "source": [
    "faturamento_medio = cad_clientes_df['Valor Contrato Mensal'].mean()\n",
    "\n",
    "print(f'O faturamento médio foi de: {faturamento_medio:,.2f}')"
   ]
  },
  {
   "attachments": {},
   "cell_type": "markdown",
   "metadata": {},
   "source": [
    "**VIDEO 26 TIME 41:00**"
   ]
  }
 ],
 "metadata": {
  "kernelspec": {
   "display_name": "Python 3",
   "language": "python",
   "name": "python3"
  },
  "language_info": {
   "codemirror_mode": {
    "name": "ipython",
    "version": 3
   },
   "file_extension": ".py",
   "mimetype": "text/x-python",
   "name": "python",
   "nbconvert_exporter": "python",
   "pygments_lexer": "ipython3",
   "version": "3.11.1"
  },
  "vscode": {
   "interpreter": {
    "hash": "e6cbf922e4365afb2d5548b061d9e5a3e3e5cb16ee62e7148c4102e84b362b43"
   }
  }
 },
 "nbformat": 4,
 "nbformat_minor": 4
}
